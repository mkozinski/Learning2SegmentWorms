{
 "cells": [
  {
   "cell_type": "code",
   "execution_count": null,
   "metadata": {},
   "outputs": [],
   "source": [
    "import cv2\n",
    "import IPython.display \n",
    "import importlib\n",
    "import skimage.io as imgio\n",
    "import numpy as np\n",
    "import os\n",
    "import torch\n",
    "import sys\n",
    "from skimage.external.tifffile import imread\n",
    "\n",
    "def imshow(img):\n",
    "    _,ret = cv2.imencode('.jpg', img) \n",
    "    i = IPython.display.Image(data=ret)\n",
    "    IPython.display.display(i)\n",
    "    \n",
    "def showCube(vol):\n",
    "    v1=np.max(vol,axis=0)\n",
    "    v2=np.max(vol,axis=1)\n",
    "    v3=np.max(vol,axis=2)\n",
    "    imshow(v1*255)\n",
    "    imshow(v2*255)\n",
    "    imshow(v3*255)\n",
    "\n",
    "def showCubes(vols):\n",
    "    v1s=[]\n",
    "    v2s=[]\n",
    "    v3s=[]\n",
    "    for v in vols:\n",
    "        v1s.append(np.max(v,axis=0))\n",
    "        v2s.append(np.max(v,axis=1))\n",
    "        v3s.append(np.max(v,axis=2))\n",
    "    imshow(np.concatenate(v1s,1)*255)\n",
    "    imshow(np.concatenate(v2s,1)*255)\n",
    "    imshow(np.concatenate(v3s,1)*255)"
   ]
  },
  {
   "cell_type": "code",
   "execution_count": null,
   "metadata": {},
   "outputs": [],
   "source": [
    "\n",
    "odir=\"log_v1/output_best_v1/\"\n",
    "datadir=\"../WormData/\"\n",
    "exec(open(\"../WormData/testFiles_AIY.txt\").read())"
   ]
  },
  {
   "cell_type": "code",
   "execution_count": null,
   "metadata": {
    "scrolled": false
   },
   "outputs": [],
   "source": [
    "for f in testFiles:\n",
    "    img=imread(os.path.join(datadir,f[0]))\n",
    "    print(img.shape)\n",
    "    img=img/img.max()\n",
    "    showCube(img)\n",
    "    lbl=np.load(os.path.join(datadir,f[1]))\n",
    "    showCube(lbl)\n",
    "    oname=os.path.basename(f[0])\n",
    "    pre=np.load(os.path.join(odir,oname+\".npy\"))\n",
    "    print(pre.shape)\n",
    "    showCube(pre)"
   ]
  },
  {
   "cell_type": "code",
   "execution_count": null,
   "metadata": {},
   "outputs": [],
   "source": []
  },
  {
   "cell_type": "code",
   "execution_count": null,
   "metadata": {},
   "outputs": [],
   "source": []
  }
 ],
 "metadata": {
  "kernelspec": {
   "display_name": "Python 3",
   "language": "python",
   "name": "python3"
  },
  "language_info": {
   "codemirror_mode": {
    "name": "ipython",
    "version": 3
   },
   "file_extension": ".py",
   "mimetype": "text/x-python",
   "name": "python",
   "nbconvert_exporter": "python",
   "pygments_lexer": "ipython3",
   "version": "3.6.8"
  }
 },
 "nbformat": 4,
 "nbformat_minor": 2
}
