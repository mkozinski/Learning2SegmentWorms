{
 "cells": [
  {
   "cell_type": "code",
   "execution_count": null,
   "metadata": {},
   "outputs": [],
   "source": [
    "import cv2\n",
    "import IPython.display \n",
    "import importlib\n",
    "import skimage.io as imgio\n",
    "import numpy as np\n",
    "import os\n",
    "import torch\n",
    "import sys\n",
    "\n",
    "def imshow(img):\n",
    "    _,ret = cv2.imencode('.jpg', img) \n",
    "    i = IPython.display.Image(data=ret)\n",
    "    IPython.display.display(i)\n",
    "    \n",
    "def showCube(vol):\n",
    "    v1=np.max(vol,axis=0)\n",
    "    v2=np.max(vol,axis=1)\n",
    "    v3=np.max(vol,axis=2)\n",
    "    imshow(v1*255)\n",
    "    imshow(v2*255)\n",
    "    imshow(v3*255)\n",
    "\n",
    "def showCubes(vols):\n",
    "    v1s=[]\n",
    "    v2s=[]\n",
    "    v3s=[]\n",
    "    for v in vols:\n",
    "        v1s.append(np.max(v,axis=0))\n",
    "        v2s.append(np.max(v,axis=1))\n",
    "        v3s.append(np.max(v,axis=2))\n",
    "    imshow(np.concatenate(v1s,1)*255)\n",
    "    imshow(np.concatenate(v2s,1)*255)\n",
    "    imshow(np.concatenate(v3s,1)*255)"
   ]
  },
  {
   "cell_type": "code",
   "execution_count": null,
   "metadata": {},
   "outputs": [],
   "source": [
    "import sys\n",
    "sys.path.append(\"./\")\n",
    "import run_v2"
   ]
  },
  {
   "cell_type": "code",
   "execution_count": null,
   "metadata": {},
   "outputs": [],
   "source": [
    "tl=iter(run_v2.trn.dataLoader)\n",
    "img,lbl=tl.next()\n",
    "i=img[0,0]\n",
    "i-=i.min()\n",
    "i/=i.max()\n",
    "i0,_=i.max(0)\n",
    "i0=i0*255\n",
    "i1,_=i.max(1)\n",
    "i1=i1*255\n",
    "i2,_=i.max(2)\n",
    "i2=i2*255\n",
    "#showCube(i.data.cpu().numpy())\n",
    "l=lbl[0].clone()\n",
    "print(np.unique(l))\n",
    "# remap 255->0 0->1 1->2\n",
    "# rescale to 0-255\n",
    "l[l==255]=-1\n",
    "l=(l+1)*127\n",
    "l0,_=l.max(0)\n",
    "l1,_=l.max(1)\n",
    "l2,_=l.max(2)\n",
    "imshow(i0.numpy())\n",
    "imshow(i1.numpy())\n",
    "imshow(i2.numpy())\n",
    "imshow(l0.numpy())\n",
    "imshow(l1.numpy())\n",
    "imshow(l2.numpy())\n",
    "#imshow(np.equal(l0.numpy(),255)*255)\n",
    "#imshow(np.equal(l0.numpy(),1)*255)\n",
    "imshow(torch.stack([torch.zeros_like(i0),i0,l0.float(),],dim=-1).numpy())\n",
    "imshow(torch.stack([torch.zeros_like(i1),i1,l1.float(),],dim=-1).numpy())\n",
    "imshow(torch.stack([torch.zeros_like(i2),i2,l2.float(),],dim=-1).numpy())"
   ]
  },
  {
   "cell_type": "code",
   "execution_count": null,
   "metadata": {},
   "outputs": [],
   "source": [
    "out=run_v2.net.forward(img.cuda())"
   ]
  },
  {
   "cell_type": "code",
   "execution_count": null,
   "metadata": {},
   "outputs": [],
   "source": [
    "np.unique(out[0][1].data.cpu().numpy())"
   ]
  },
  {
   "cell_type": "code",
   "execution_count": null,
   "metadata": {},
   "outputs": [],
   "source": [
    "o=out[0][1].data.cpu().numpy()\n",
    "print(o.shape)\n",
    "o-=np.min(o)\n",
    "o/=np.max(o)\n",
    "showCube(o)"
   ]
  },
  {
   "cell_type": "code",
   "execution_count": null,
   "metadata": {},
   "outputs": [],
   "source": [
    "l=run_v2.loss\n",
    "c=l.forward(out,lbl.cuda())\n",
    "out.retain_grad()"
   ]
  },
  {
   "cell_type": "code",
   "execution_count": null,
   "metadata": {},
   "outputs": [],
   "source": [
    "c.backward()"
   ]
  },
  {
   "cell_type": "code",
   "execution_count": null,
   "metadata": {},
   "outputs": [],
   "source": [
    "g=np.abs(out.grad[0][1].data.cpu().numpy())\n",
    "print(g.shape)\n",
    "g-=np.min(g)\n",
    "g/=np.max(g)\n",
    "showCube(g)"
   ]
  },
  {
   "cell_type": "code",
   "execution_count": null,
   "metadata": {},
   "outputs": [],
   "source": []
  }
 ],
 "metadata": {
  "kernelspec": {
   "display_name": "Python 3",
   "language": "python",
   "name": "python3"
  },
  "language_info": {
   "codemirror_mode": {
    "name": "ipython",
    "version": 3
   },
   "file_extension": ".py",
   "mimetype": "text/x-python",
   "name": "python",
   "nbconvert_exporter": "python",
   "pygments_lexer": "ipython3",
   "version": "3.6.8"
  }
 },
 "nbformat": 4,
 "nbformat_minor": 2
}
